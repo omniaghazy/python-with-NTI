{
  "nbformat": 4,
  "nbformat_minor": 0,
  "metadata": {
    "colab": {
      "provenance": [],
      "authorship_tag": "ABX9TyNvK8nLnJSOfshttDd8qKAG",
      "include_colab_link": true
    },
    "kernelspec": {
      "name": "python3",
      "display_name": "Python 3"
    },
    "language_info": {
      "name": "python"
    }
  },
  "cells": [
    {
      "cell_type": "markdown",
      "metadata": {
        "id": "view-in-github",
        "colab_type": "text"
      },
      "source": [
        "<a href=\"https://colab.research.google.com/github/omniaghazy/python-with-NTI/blob/main/day1OmniaGhazy.ipynb\" target=\"_parent\"><img src=\"https://colab.research.google.com/assets/colab-badge.svg\" alt=\"Open In Colab\"/></a>"
      ]
    },
    {
      "cell_type": "code",
      "execution_count": 2,
      "metadata": {
        "colab": {
          "base_uri": "https://localhost:8080/",
          "height": 36
        },
        "id": "QHW46WPIiX6h",
        "outputId": "1b63a98b-3ed0-4e6a-843b-a6ecd34d68f2"
      },
      "outputs": [
        {
          "output_type": "execute_result",
          "data": {
            "text/plain": [
              "'hello'"
            ],
            "application/vnd.google.colaboratory.intrinsic+json": {
              "type": "string"
            }
          },
          "metadata": {},
          "execution_count": 2
        }
      ],
      "source": [
        "d={\"k1\":[1,2,{\"k2\":[\"this is tricky\",{\"ahmed\":[1,2,[\"hello\"]]}]}]}\n",
        "d[\"k1\"][2][\"k2\"][1][\"ahmed\"][2][0]"
      ]
    },
    {
      "cell_type": "code",
      "source": [],
      "metadata": {
        "id": "a83c3OXd-tux"
      },
      "execution_count": 7,
      "outputs": []
    },
    {
      "cell_type": "code",
      "source": [
        "\n",
        "def calaculator (num1 , num2 , operater):\n",
        "    if operater == \"1\":\n",
        "        return num1 + num2\n",
        "    elif operater == \"2\":\n",
        "        return num1 - num2\n",
        "    elif operater == \"3\":\n",
        "        return num1 * num2\n",
        "    elif operater == \"4\":\n",
        "        return num1 / num2\n",
        "    else:\n",
        "        return \"operater is not correct\"\n",
        "\n",
        "num1=int(input(\"enter num1 = \"))\n",
        "\n",
        "num2=int(input(\"enter num2 = \"))\n",
        "\n",
        "print(\" number of operation\")\n",
        "print(\"1.add\")\n",
        "print(\"2.sub\")\n",
        "print(\"3.mul\")\n",
        "print(\"4.div\")\n",
        "operater=input(\"enter operater : \")\n",
        "\n",
        "\n",
        "result =calaculator(num1,num2,operater)\n",
        "print(f\"result = {result}\")"
      ],
      "metadata": {
        "colab": {
          "base_uri": "https://localhost:8080/"
        },
        "id": "qi4I2tZqJwMe",
        "outputId": "58a9e61d-10fc-4226-d8ff-2c6e95c4ac7a"
      },
      "execution_count": 15,
      "outputs": [
        {
          "output_type": "stream",
          "name": "stdout",
          "text": [
            "enter num1 = 45\n",
            "enter num2 = 5\n",
            " number of operation\n",
            "1.add\n",
            "2.sub\n",
            "3.mul\n",
            "4.div\n",
            "enter operater : 4\n",
            "result = 9.0\n"
          ]
        }
      ]
    },
    {
      "cell_type": "code",
      "source": [],
      "metadata": {
        "id": "7V2o08WgKbX6"
      },
      "execution_count": null,
      "outputs": []
    },
    {
      "cell_type": "markdown",
      "source": [
        "## **lab**"
      ],
      "metadata": {
        "id": "M46Bs4bFjn4n"
      }
    },
    {
      "cell_type": "markdown",
      "source": [
        "1- write 3 variable and check for it's data types using type() function\n",
        "\n"
      ],
      "metadata": {
        "id": "AUun9NgHctOU"
      }
    },
    {
      "cell_type": "code",
      "source": [
        "var1= 12\n",
        "var2=\"apple\"\n",
        "var3 = True\n",
        "print(type(var1))\n",
        "print(type(var2))\n",
        "print(type(var3))"
      ],
      "metadata": {
        "colab": {
          "base_uri": "https://localhost:8080/"
        },
        "id": "LhemAhX_c3rt",
        "outputId": "79b59890-76d4-4ff0-cc1b-e778c8e1d612"
      },
      "execution_count": 16,
      "outputs": [
        {
          "output_type": "stream",
          "name": "stdout",
          "text": [
            "<class 'int'>\n",
            "<class 'str'>\n",
            "<class 'bool'>\n"
          ]
        }
      ]
    },
    {
      "cell_type": "markdown",
      "source": [
        "- write 3 variable and take it in one line using split() function and print it\n"
      ],
      "metadata": {
        "id": "jMhRbRaHdI19"
      }
    },
    {
      "cell_type": "code",
      "source": [
        "var1,var2,var3=input(\"enter 3 variable \").split()\n",
        "print(f\"var1 = {var1}\")\n",
        "print(f\"var2 = {var2}\")\n",
        "print(f\"var3 = {var3}\")\n"
      ],
      "metadata": {
        "colab": {
          "base_uri": "https://localhost:8080/"
        },
        "id": "4OHUo5S-dEzZ",
        "outputId": "328d8532-009b-4d8b-f5b7-4992c53771d4"
      },
      "execution_count": 19,
      "outputs": [
        {
          "output_type": "stream",
          "name": "stdout",
          "text": [
            "enter 3 variable one two three\n",
            "var1 = one\n",
            "var2 = two\n",
            "var3 = three\n"
          ]
        }
      ]
    },
    {
      "cell_type": "markdown",
      "source": [
        "3- write program take number from user then convert it to string \" casting \" then print lenth of this\n",
        "string using len() function"
      ],
      "metadata": {
        "id": "GkeUbG8geDUv"
      }
    },
    {
      "cell_type": "code",
      "source": [
        "def toString(number):\n",
        "  converted = str(number)\n",
        "  print(len(converted))\n",
        "\n",
        "\n",
        "toString(1111)"
      ],
      "metadata": {
        "colab": {
          "base_uri": "https://localhost:8080/"
        },
        "id": "V0jFSWZtddhH",
        "outputId": "8a8bad56-ba5e-49e8-e011-09bf66ed3b2f"
      },
      "execution_count": 21,
      "outputs": [
        {
          "output_type": "stream",
          "name": "stdout",
          "text": [
            "4\n"
          ]
        }
      ]
    },
    {
      "cell_type": "markdown",
      "source": [
        "- you have number and you want to remove last k number from this number implement python\n",
        "program do that and print result"
      ],
      "metadata": {
        "id": "mEpRWI5yejxX"
      }
    },
    {
      "cell_type": "code",
      "source": [
        "def popk (k ,inputnumber):\n",
        "  number= list(str(inputnumber))\n",
        "  for i in range(k):\n",
        "    number.pop(k)\n",
        "  return int(\"\".join(number))\n",
        "\n",
        "popk(3,567890)\n",
        "\n"
      ],
      "metadata": {
        "colab": {
          "base_uri": "https://localhost:8080/"
        },
        "id": "Ao1usMpPecyH",
        "outputId": "2c441389-aa10-4570-db4a-0e9b65e2f991"
      },
      "execution_count": 41,
      "outputs": [
        {
          "output_type": "execute_result",
          "data": {
            "text/plain": [
              "567"
            ]
          },
          "metadata": {},
          "execution_count": 41
        }
      ]
    },
    {
      "cell_type": "markdown",
      "source": [
        "- take integer multiple number in one line using map and split then print maximum and minimum\n",
        "number from it using min and max function  \n"
      ],
      "metadata": {
        "id": "6aVJxPHngEPe"
      }
    },
    {
      "cell_type": "code",
      "source": [
        "listofmap = list(map(int , input(\"enter number\").split(\",\")))\n",
        "print(max(listofmap))\n",
        "print(min(listofmap))\n",
        "\n"
      ],
      "metadata": {
        "colab": {
          "base_uri": "https://localhost:8080/"
        },
        "id": "DIFV-kpQfbQn",
        "outputId": "902ce24c-e7de-4a9f-aa1e-faa4adb283c7"
      },
      "execution_count": 35,
      "outputs": [
        {
          "output_type": "stream",
          "name": "stdout",
          "text": [
            "enter number 34 , 45 , 67\n",
            "67\n",
            "34\n"
          ]
        }
      ]
    },
    {
      "cell_type": "markdown",
      "source": [
        "- Write a Python program that finds the minimum of two values a and b."
      ],
      "metadata": {
        "id": "RizXjdFpiTCE"
      }
    },
    {
      "cell_type": "code",
      "source": [
        "def mini(num1,num2):\n",
        "  return min(num1,num2)\n",
        "mini(10,20)"
      ],
      "metadata": {
        "colab": {
          "base_uri": "https://localhost:8080/"
        },
        "id": "oKJwNOyBhHV8",
        "outputId": "c0e9540c-a2a9-4c61-9126-fc94670a380c"
      },
      "execution_count": 36,
      "outputs": [
        {
          "output_type": "execute_result",
          "data": {
            "text/plain": [
              "10"
            ]
          },
          "metadata": {},
          "execution_count": 36
        }
      ]
    },
    {
      "cell_type": "markdown",
      "source": [
        "- Write a program that reads an integer salary then:\n",
        "If salary < 1000, -\n",
        "Print you are poor\n",
        "elif salary greater than or equal to 1000 and less than 20000 -\n",
        "Print good salary\n",
        "elif salary greater than or equal to 20000 -\n",
        "Print you are rich"
      ],
      "metadata": {
        "id": "qAdDbHsrifzF"
      }
    },
    {
      "cell_type": "code",
      "source": [
        "\n",
        "def readSalary(salary):\n",
        "  if salary< 1000:\n",
        "    print(\"you are poor\")\n",
        "  elif salary >= 1000 and salary < 20000:\n",
        "    print(\"good salary\")\n",
        "  elif salary >= 20000:\n",
        "    print(\"you are rich\")\n",
        "\n",
        "\n",
        "readSalary(1000)"
      ],
      "metadata": {
        "colab": {
          "base_uri": "https://localhost:8080/"
        },
        "id": "1-w5hoq_ibiv",
        "outputId": "409385b4-92ad-4672-9831-d5f5d75b097a"
      },
      "execution_count": 38,
      "outputs": [
        {
          "output_type": "stream",
          "name": "stdout",
          "text": [
            "good salary\n"
          ]
        }
      ]
    },
    {
      "cell_type": "markdown",
      "source": [
        "8- Write a Python program that receives the age of the user and display whether he/she can drive a car.\n",
        "If the user is above 18 years old, he/she can drive."
      ],
      "metadata": {
        "id": "KXSWSp1li5qh"
      }
    },
    {
      "cell_type": "code",
      "source": [
        "def driveORnot(age):\n",
        "  if age > 18:\n",
        "    return True\n",
        "  else:\n",
        "    return False\n",
        "\n",
        "print(driveORnot(9))\n",
        "print(driveORnot(19))"
      ],
      "metadata": {
        "colab": {
          "base_uri": "https://localhost:8080/"
        },
        "id": "Oh95jOENi0CA",
        "outputId": "1507cbdb-13c8-48b8-ea72-19013d20a142"
      },
      "execution_count": 40,
      "outputs": [
        {
          "output_type": "stream",
          "name": "stdout",
          "text": [
            "False\n",
            "True\n"
          ]
        }
      ]
    },
    {
      "cell_type": "code",
      "source": [],
      "metadata": {
        "id": "6MXB9sWujeI4"
      },
      "execution_count": null,
      "outputs": []
    }
  ]
}