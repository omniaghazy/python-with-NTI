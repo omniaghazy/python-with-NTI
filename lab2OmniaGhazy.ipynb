{
  "cells": [
    {
      "cell_type": "markdown",
      "metadata": {
        "id": "view-in-github",
        "colab_type": "text"
      },
      "source": [
        "<a href=\"https://colab.research.google.com/github/omniaghazy/python-with-NTI/blob/main/lab2OmniaGhazy.ipynb\" target=\"_parent\"><img src=\"https://colab.research.google.com/assets/colab-badge.svg\" alt=\"Open In Colab\"/></a>"
      ]
    },
    {
      "cell_type": "markdown",
      "id": "90fb5352",
      "metadata": {
        "id": "90fb5352"
      },
      "source": [
        "The code problems sets in this excercise sheet are taken from many helpful resources.\n",
        "\n",
        "Check them out for further practice:\n",
        "\n",
        "https://www.kaggle.com/utsav15/100-numpy-exercises\n",
        "\n",
        "https://www.w3resource.com/python-exercises/numpy/index.php\n",
        "        \n",
        "https://www.machinelearningplus.com/python/101-numpy-exercises-python/\n",
        "    \n",
        "https://www.geeksforgeeks.org/python-numpy-practice-exercises-questions-and-solutions/ ( *Multiple solutions per problem* )\n",
        "    \n",
        "https://favtutor.com/blogs/numpy-exercises-python\n",
        "\n",
        "Level your coding skills by solving challenges: https://www.hackerrank.com/domains/python/numpy/difficulty/all/page/1"
      ]
    },
    {
      "cell_type": "code",
      "source": [
        "import numpy as np"
      ],
      "metadata": {
        "id": "EwtbV9RV8hQG"
      },
      "id": "EwtbV9RV8hQG",
      "execution_count": 1,
      "outputs": []
    },
    {
      "cell_type": "markdown",
      "id": "2013a1b0",
      "metadata": {
        "id": "2013a1b0"
      },
      "source": [
        "### Question: Create a null vector of size 10\n",
        "\n",
        "### Answer:"
      ]
    },
    {
      "cell_type": "code",
      "execution_count": 3,
      "id": "71f02953",
      "metadata": {
        "colab": {
          "base_uri": "https://localhost:8080/"
        },
        "id": "71f02953",
        "outputId": "bf2814cb-bbb1-4e2d-a661-b999614f6a54"
      },
      "outputs": [
        {
          "output_type": "stream",
          "name": "stdout",
          "text": [
            "[0 0 0 0 0 0 0 0 0 0]\n"
          ]
        }
      ],
      "source": [
        "nullVector = np.zeros(10 ,\"int\")\n",
        "print(nullVector)"
      ]
    },
    {
      "cell_type": "markdown",
      "id": "deaee21e",
      "metadata": {
        "id": "deaee21e"
      },
      "source": [
        "### Question: Create a vector with values ranging from 10 to 49\n",
        "\n",
        "### Answer:"
      ]
    },
    {
      "cell_type": "code",
      "execution_count": 6,
      "id": "b52799bc",
      "metadata": {
        "colab": {
          "base_uri": "https://localhost:8080/"
        },
        "id": "b52799bc",
        "outputId": "8d12ceb5-a93e-43b0-b99b-dc8975a9dfc5"
      },
      "outputs": [
        {
          "output_type": "stream",
          "name": "stdout",
          "text": [
            "[10 11 12 13 14 15 16 17 18 19 20 21 22 23 24 25 26 27 28 29 30 31 32 33\n",
            " 34 35 36 37 38 39 40 41 42 43 44 45 46 47 48 49]\n"
          ]
        }
      ],
      "source": [
        "vector = np.arange(10,50,1)\n",
        "print(vector)"
      ]
    },
    {
      "cell_type": "markdown",
      "id": "b8f92b34",
      "metadata": {
        "id": "b8f92b34"
      },
      "source": [
        "### Question: Reverse a vector (first element becomes last)\n",
        "\n",
        "### Answer:"
      ]
    },
    {
      "cell_type": "code",
      "execution_count": 7,
      "id": "e4c6e65b",
      "metadata": {
        "colab": {
          "base_uri": "https://localhost:8080/"
        },
        "id": "e4c6e65b",
        "outputId": "d1c1b074-a0b6-430e-f971-c6257ef56737"
      },
      "outputs": [
        {
          "output_type": "stream",
          "name": "stdout",
          "text": [
            "[49 48 47 46 45 44 43 42 41 40 39 38 37 36 35 34 33 32 31 30 29 28 27 26\n",
            " 25 24 23 22 21 20 19 18 17 16 15 14 13 12 11 10]\n"
          ]
        }
      ],
      "source": [
        "reverse=vector[::-1]\n",
        "print(reverse)"
      ]
    },
    {
      "cell_type": "markdown",
      "id": "90ba84dc",
      "metadata": {
        "id": "90ba84dc"
      },
      "source": [
        "### Question: Create a 3x3 matrix with values ranging from 0 to 8\n",
        "\n",
        "### Answer:"
      ]
    },
    {
      "cell_type": "code",
      "execution_count": 8,
      "id": "fc80cecd",
      "metadata": {
        "colab": {
          "base_uri": "https://localhost:8080/"
        },
        "id": "fc80cecd",
        "outputId": "f588c5e8-5828-42c3-d201-6f4a2e7f905c"
      },
      "outputs": [
        {
          "output_type": "stream",
          "name": "stdout",
          "text": [
            "[[0 1 2]\n",
            " [3 4 5]\n",
            " [6 7 8]]\n"
          ]
        }
      ],
      "source": [
        "matrix=np.arange(0,9,1).reshape(3,3)\n",
        "print(matrix)"
      ]
    },
    {
      "cell_type": "markdown",
      "id": "d55b618e",
      "metadata": {
        "id": "d55b618e"
      },
      "source": [
        "### Question: Find indices of non-zero elements from [1,2,0,0,4,0]\n",
        "\n",
        "### Answer:"
      ]
    },
    {
      "cell_type": "code",
      "execution_count": 13,
      "id": "881c92b0",
      "metadata": {
        "colab": {
          "base_uri": "https://localhost:8080/"
        },
        "id": "881c92b0",
        "outputId": "e9afaf17-978b-487b-fb05-20b83f6f594e"
      },
      "outputs": [
        {
          "output_type": "stream",
          "name": "stdout",
          "text": [
            "0\n",
            "1\n",
            "4\n",
            "(array([0, 1, 4]),)\n"
          ]
        }
      ],
      "source": [
        "vector = np.array([1,2,0,0,4,0])\n",
        "for i,v in enumerate(vector):\n",
        "  if v!=0:\n",
        "    print(i)\n",
        "\n",
        "# another solution\n",
        "nz_indices = np.nonzero(vector)\n",
        "print(nz_indices)\n",
        ""
      ]
    },
    {
      "cell_type": "markdown",
      "id": "0f31a283",
      "metadata": {
        "id": "0f31a283"
      },
      "source": [
        "### Question: Create a 10x10 array with random values and find the minimum, maximum and mean values\n",
        "\n",
        "### Answer:"
      ]
    },
    {
      "cell_type": "code",
      "execution_count": 14,
      "id": "d54d1cd2",
      "metadata": {
        "colab": {
          "base_uri": "https://localhost:8080/"
        },
        "id": "d54d1cd2",
        "outputId": "d060107a-2566-4310-96e6-00ec17ffe6c7"
      },
      "outputs": [
        {
          "output_type": "stream",
          "name": "stdout",
          "text": [
            "[[0.47862335 0.34885833 0.91623197 0.6348094  0.04235259 0.994894\n",
            "  0.44833395 0.32254417 0.25165453 0.62011916]\n",
            " [0.52792449 0.53527255 0.24134307 0.11617582 0.89461074 0.7408676\n",
            "  0.72967469 0.84527542 0.32773186 0.32608064]\n",
            " [0.74297085 0.78619215 0.21817444 0.20713849 0.05775769 0.84305061\n",
            "  0.25564874 0.07283574 0.59334702 0.14797221]\n",
            " [0.89956986 0.90419932 0.70080781 0.46105087 0.40004    0.44699894\n",
            "  0.07818866 0.73561329 0.40150723 0.08943873]\n",
            " [0.07434911 0.53153683 0.78942789 0.60090879 0.12622429 0.31171985\n",
            "  0.62980945 0.54428459 0.83210784 0.91440339]\n",
            " [0.66142192 0.43866588 0.51195701 0.1264528  0.66105222 0.15600798\n",
            "  0.85225317 0.811861   0.70858798 0.00759252]\n",
            " [0.35652243 0.12895098 0.84592411 0.6069324  0.11248676 0.43667417\n",
            "  0.70488544 0.04635355 0.86389189 0.57828511]\n",
            " [0.27340339 0.88609795 0.33646388 0.05338686 0.87661969 0.11626835\n",
            "  0.39058226 0.50268648 0.19671109 0.74055023]\n",
            " [0.12721072 0.16049285 0.01911831 0.03150048 0.42365984 0.40653029\n",
            "  0.41103411 0.61595216 0.84633733 0.00777462]\n",
            " [0.93945618 0.56084142 0.61409199 0.09986059 0.34522176 0.17476082\n",
            "  0.08654231 0.84906371 0.00959295 0.36058429]]\n",
            "0.007592521508330452\n",
            "0.9948939992688527\n",
            "0.4581980924790758\n"
          ]
        }
      ],
      "source": [
        "randomArray = np.random.random(size=(10,10))\n",
        "print(randomArray)\n",
        "print(randomArray.min())\n",
        "print(randomArray.max())\n",
        "print(randomArray.mean())"
      ]
    },
    {
      "cell_type": "markdown",
      "id": "a2089fd4",
      "metadata": {
        "id": "a2089fd4"
      },
      "source": [
        "### Question: What is the result of the following expressions?\n",
        "print(0 * np.nan)\n",
        "\n",
        "print(np.nan == np.nan)\n",
        "\n",
        "print(np.inf > np.nan)\n",
        "\n",
        "print(np.nan - np.nan)\n",
        "\n",
        "print(np.nan in set([np.nan]))\n",
        "\n",
        "print(0.3 == 3 * 0.1)\n",
        "\n",
        "### Answer"
      ]
    },
    {
      "cell_type": "code",
      "execution_count": 15,
      "id": "8fd2a6fa",
      "metadata": {
        "scrolled": true,
        "colab": {
          "base_uri": "https://localhost:8080/"
        },
        "id": "8fd2a6fa",
        "outputId": "5f3c44fd-8d9a-4998-e920-534f61295f02"
      },
      "outputs": [
        {
          "output_type": "stream",
          "name": "stdout",
          "text": [
            "nan\n",
            "False\n",
            "False\n",
            "nan\n",
            "True\n",
            "False\n"
          ]
        }
      ],
      "source": [
        "print(0 * np.nan)\n",
        "\n",
        "print(np.nan == np.nan)\n",
        "\n",
        "print(np.inf > np.nan)\n",
        "\n",
        "print(np.nan - np.nan)\n",
        "\n",
        "print(np.nan in set([np.nan]))\n",
        "\n",
        "print(0.3 == 3 * 0.1)"
      ]
    },
    {
      "cell_type": "markdown",
      "id": "d7a56c11",
      "metadata": {
        "id": "d7a56c11"
      },
      "source": [
        "### Question: Write a NumPy program to convert a list and tuple into arrays.\n",
        "List to array:  [1 2 3 4 5 6 7 8]\n",
        "    \n",
        "Tuples to array:  ((8, 4), (6,1), (2, 3))\n",
        "    \n",
        "## Answer:"
      ]
    },
    {
      "cell_type": "code",
      "execution_count": 17,
      "id": "51a5aa6b",
      "metadata": {
        "colab": {
          "base_uri": "https://localhost:8080/"
        },
        "id": "51a5aa6b",
        "outputId": "89ee5696-3bcd-4e2e-edc5-33a92893eec8"
      },
      "outputs": [
        {
          "output_type": "stream",
          "name": "stdout",
          "text": [
            "[1 2 3 4 5 6 7 8]\n",
            "[[8 4]\n",
            " [6 1]\n",
            " [2 3]]\n"
          ]
        }
      ],
      "source": [
        "list1 = [1, 2, 3, 4, 5, 6, 7, 8]\n",
        "tuple1 = ((8, 4), (6,1), (2, 3))\n",
        "array1 = np.array(list1)\n",
        "array2 = np.array(tuple1)\n",
        "print(array1)\n",
        "print(array2)"
      ]
    },
    {
      "cell_type": "markdown",
      "id": "70159055",
      "metadata": {
        "id": "70159055"
      },
      "source": [
        "### Question: Write a NumPy program to append values to the end of an array.\n",
        "Original array:  [10, 20, 30]\n",
        "After append values to the end of the array:  [10 20 30 40 50 60 70 80 90]\n",
        "\n",
        "### Answer:"
      ]
    },
    {
      "cell_type": "code",
      "execution_count": 18,
      "id": "00204d5d",
      "metadata": {
        "colab": {
          "base_uri": "https://localhost:8080/"
        },
        "id": "00204d5d",
        "outputId": "c0bad430-25a4-41be-d106-fc765d1a8631"
      },
      "outputs": [
        {
          "output_type": "stream",
          "name": "stdout",
          "text": [
            "[10 20 30 40 50 60 70 80 90]\n"
          ]
        }
      ],
      "source": [
        "original= np.array([10, 20, 30])\n",
        "appended = np.append(original,[40,50,60,70,80,90])\n",
        "print(appended)"
      ]
    },
    {
      "cell_type": "markdown",
      "id": "794344ca",
      "metadata": {
        "id": "794344ca"
      },
      "source": [
        "### Question: How to add a border (filled with 0's) around an existing array?\n",
        "\n",
        "### Answer:"
      ]
    },
    {
      "cell_type": "code",
      "execution_count": 24,
      "id": "fb15cd5c",
      "metadata": {
        "colab": {
          "base_uri": "https://localhost:8080/"
        },
        "id": "fb15cd5c",
        "outputId": "22208389-501a-4eee-de96-40bd5c2f11ca"
      },
      "outputs": [
        {
          "output_type": "stream",
          "name": "stdout",
          "text": [
            "[[1 2 3]\n",
            " [4 5 6]]\n",
            "[[0 0 0 0 0 0 0]\n",
            " [0 0 0 0 0 0 0]\n",
            " [0 0 1 2 3 0 0]\n",
            " [0 0 4 5 6 0 0]\n",
            " [0 0 0 0 0 0 0]\n",
            " [0 0 0 0 0 0 0]]\n"
          ]
        }
      ],
      "source": [
        "existingArray = np.array([(1,2,3),(4,5,6)])\n",
        "print(existingArray)\n",
        "print(np.pad(existingArray, pad_width=2, mode='constant', constant_values=0))"
      ]
    },
    {
      "cell_type": "markdown",
      "id": "4b8a4b65",
      "metadata": {
        "id": "4b8a4b65"
      },
      "source": [
        "### Question: Consider a (6,7,8) shape array, what is the index (x,y,z) of the 100th element?\n",
        "\n",
        "### Answer:"
      ]
    },
    {
      "cell_type": "code",
      "execution_count": 29,
      "id": "622c7fa0",
      "metadata": {
        "colab": {
          "base_uri": "https://localhost:8080/"
        },
        "id": "622c7fa0",
        "outputId": "db02c3c5-66ff-4afd-f9e2-de46f81e0e22"
      },
      "outputs": [
        {
          "output_type": "stream",
          "name": "stdout",
          "text": [
            "The index (x,y,z) of the 100th element (0-indexed 99th) is: (1, 5, 3)\n"
          ]
        }
      ],
      "source": [
        "\n",
        "import numpy as np\n",
        "\n",
        "array = np.random.random((6, 7, 8))\n",
        "\n",
        "index = 100 - 1\n",
        "z = index % 8\n",
        "\n",
        "remaining_index = index // 8\n",
        "\n",
        "y = remaining_index % 7\n",
        "\n",
        "x = remaining_index // 7\n",
        "\n",
        "print(f\"The index (x,y,z) of the 100th element (0-indexed 99th) is: ({int(x)}, {int(y)}, {int(z)})\")\n",
        "\n"
      ]
    },
    {
      "cell_type": "markdown",
      "id": "83609112",
      "metadata": {
        "id": "83609112"
      },
      "source": [
        "### Question: Normalize a 5x5 random matrix\n",
        "\n",
        "### Answer:"
      ]
    },
    {
      "cell_type": "code",
      "execution_count": 32,
      "id": "186f18a8",
      "metadata": {
        "colab": {
          "base_uri": "https://localhost:8080/"
        },
        "id": "186f18a8",
        "outputId": "210717e5-9720-4277-da3e-37ae9dfd679a"
      },
      "outputs": [
        {
          "output_type": "stream",
          "name": "stdout",
          "text": [
            "[[0.82851782 0.75321137 0.83807382 0.53317601 0.60888873]\n",
            " [0.22914765 0.41705379 0.60340097 0.7958949  0.38094718]\n",
            " [0.43057983 0.03774306 0.38739531 0.89242054 1.        ]\n",
            " [0.47543894 0.2843998  0.1076096  0.04958954 0.        ]\n",
            " [0.28277281 0.82701484 0.27470622 0.10094319 0.52498298]]\n"
          ]
        }
      ],
      "source": [
        "randomArray = np.random.random((5,5))\n",
        "normalized = (randomArray - np.min(randomArray)) / (np.max(randomArray) - np.min(randomArray))\n",
        "print(normalized)"
      ]
    },
    {
      "cell_type": "markdown",
      "id": "683ec294",
      "metadata": {
        "id": "683ec294"
      },
      "source": [
        "### Question: Given a 1D array, negate all elements which are between 3 and 8, in place\n",
        "\n",
        "### Answer:"
      ]
    },
    {
      "cell_type": "code",
      "execution_count": 33,
      "id": "5f0ddec3",
      "metadata": {
        "colab": {
          "base_uri": "https://localhost:8080/"
        },
        "id": "5f0ddec3",
        "outputId": "19e8fcac-3d5d-4bb4-f2f7-ac5407c7020d"
      },
      "outputs": [
        {
          "output_type": "stream",
          "name": "stdout",
          "text": [
            "[ 3 -4 -5 -6 -7  8  9 10 11 12 13 16]\n"
          ]
        }
      ],
      "source": [
        "oneD=np.array([3,4,5,6,7,8,9,10,11,12,13,16])\n",
        "oneD[(oneD>3) & (oneD<8)] *= -1\n",
        "print(oneD)"
      ]
    },
    {
      "cell_type": "markdown",
      "id": "1b08d61b",
      "metadata": {
        "id": "1b08d61b"
      },
      "source": [
        "### Question: How to find common values between two arrays?\n",
        "\n",
        "### Answer:"
      ]
    },
    {
      "cell_type": "code",
      "execution_count": 34,
      "id": "5de6246a",
      "metadata": {
        "colab": {
          "base_uri": "https://localhost:8080/"
        },
        "id": "5de6246a",
        "outputId": "900aa714-dcb5-4cf9-9342-5ff6f56f05e8"
      },
      "outputs": [
        {
          "output_type": "stream",
          "name": "stdout",
          "text": [
            "[3 4 5 6]\n"
          ]
        }
      ],
      "source": [
        "array1=np.array([1,2,3,4,5,6])\n",
        "array2=np.array([3,4,5,6,7,8])\n",
        "print(np.intersect1d(array1,array2))"
      ]
    },
    {
      "cell_type": "markdown",
      "id": "90ce2356",
      "metadata": {
        "id": "90ce2356"
      },
      "source": [
        "### Question: Write a NumPy program to test whether each element of a 1-D array is also present in a second array.\n",
        "Array1: [ 0 10 20 40 60]\n",
        "\n",
        "Array2: [0, 40]\n",
        "\n",
        "Expected Output:[ True False False True False]\n",
        "\n",
        "### Answer:"
      ]
    },
    {
      "cell_type": "code",
      "execution_count": 39,
      "id": "2c34cc68",
      "metadata": {
        "colab": {
          "base_uri": "https://localhost:8080/"
        },
        "id": "2c34cc68",
        "outputId": "9e683e62-480d-4877-e6ee-fecad9af144e"
      },
      "outputs": [
        {
          "output_type": "stream",
          "name": "stdout",
          "text": [
            "[ True False False  True False]\n",
            "[ True False False  True False]\n",
            "[True, False, False, True, False]\n"
          ]
        },
        {
          "output_type": "stream",
          "name": "stderr",
          "text": [
            "/tmp/ipython-input-39-961667488.py:3: DeprecationWarning: `in1d` is deprecated. Use `np.isin` instead.\n",
            "  print(np.in1d(array1,array2))\n"
          ]
        }
      ],
      "source": [
        "array1=np.array([ 0, 10 ,20, 40, 60])\n",
        "array2=np.array([0, 40])\n",
        "print(np.in1d(array1,array2))\n",
        "\n",
        "#another sol\n",
        "print(np.isin(array1,array2))\n",
        "\n",
        "#another sol\n",
        "L =[]\n",
        "for i in array1:\n",
        "  if i in array2:\n",
        "    L.append(True)\n",
        "  else:\n",
        "    L.append(False)\n",
        "print(L)\n",
        "\n"
      ]
    },
    {
      "cell_type": "markdown",
      "id": "2e588c1b",
      "metadata": {
        "id": "2e588c1b"
      },
      "source": [
        "### Question: How to get all the dates corresponding to the month of July 2016?\n",
        "\n",
        "### Answer:"
      ]
    },
    {
      "cell_type": "code",
      "execution_count": 41,
      "id": "fe8c78c8",
      "metadata": {
        "colab": {
          "base_uri": "https://localhost:8080/"
        },
        "id": "fe8c78c8",
        "outputId": "09730384-9a7a-4539-a63d-f5b208c421d6"
      },
      "outputs": [
        {
          "output_type": "stream",
          "name": "stdout",
          "text": [
            "['2016-07-01' '2016-07-02' '2016-07-03' '2016-07-04' '2016-07-05'\n",
            " '2016-07-06' '2016-07-07' '2016-07-08' '2016-07-09' '2016-07-10'\n",
            " '2016-07-11' '2016-07-12' '2016-07-13' '2016-07-14' '2016-07-15'\n",
            " '2016-07-16' '2016-07-17' '2016-07-18' '2016-07-19' '2016-07-20'\n",
            " '2016-07-21' '2016-07-22' '2016-07-23' '2016-07-24' '2016-07-25'\n",
            " '2016-07-26' '2016-07-27' '2016-07-28' '2016-07-29' '2016-07-30'\n",
            " '2016-07-31']\n"
          ]
        }
      ],
      "source": [
        "\n",
        "dates = np.arange('2016-07', '2016-08', dtype='datetime64[D]')\n",
        "print(dates)"
      ]
    },
    {
      "cell_type": "markdown",
      "id": "3888dd09",
      "metadata": {
        "id": "3888dd09"
      },
      "source": [
        "### Question: Extract the integer part of a random array using 5 different methods\n",
        "\n",
        "### Answer:"
      ]
    },
    {
      "cell_type": "code",
      "execution_count": 42,
      "id": "08bcdd17",
      "metadata": {
        "colab": {
          "base_uri": "https://localhost:8080/"
        },
        "id": "08bcdd17",
        "outputId": "f8926071-d4e2-46b8-b205-d4918b9d4364"
      },
      "outputs": [
        {
          "output_type": "stream",
          "name": "stdout",
          "text": [
            "Original array: [-1.29150019 -1.13484223  1.32587331 -0.97441553 -2.95119284  1.88449378\n",
            "  3.60085202 -3.91876423 -4.33666448  3.42700934]\n",
            "Method 1 (astype int): [-1 -1  1  0 -2  1  3 -3 -4  3]\n",
            "Method 2 (np.trunc()): [-1. -1.  1. -0. -2.  1.  3. -3. -4.  3.]\n",
            "Method 3 (np.floor()): [-2. -2.  1. -1. -3.  1.  3. -4. -5.  3.]\n",
            "Method 4 (conditional floor/ceil): [-1. -1.  1. -0. -2.  1.  3. -3. -4.  3.]\n",
            "Method 5 (np.modf()): [-1. -1.  1. -0. -2.  1.  3. -3. -4.  3.]\n"
          ]
        }
      ],
      "source": [
        "\n",
        "\n",
        "Z = np.random.uniform(-5, 5, 10)\n",
        "print(\"Original array:\", Z)\n",
        "\n",
        "# Method 1\n",
        "print(\"Method 1 (astype int):\", Z.astype(int))\n",
        "\n",
        "# Method 2\n",
        "print(\"Method 2 (np.trunc()):\", np.trunc(Z))\n",
        "\n",
        "# Method 3\n",
        "print(\"Method 3 (np.floor()):\", np.floor(Z))\n",
        "\n",
        "# Method 4 (getting integer part using np.ceil for negatives and np.floor for positives)\n",
        "print(\"Method 4 (conditional floor/ceil):\", np.where(Z >= 0, np.floor(Z), np.ceil(Z)))\n",
        "\n",
        "# Method 5\n",
        "print(\"Method 5 (np.modf()):\", np.modf(Z)[1])"
      ]
    },
    {
      "cell_type": "markdown",
      "id": "04b7e193",
      "metadata": {
        "id": "04b7e193"
      },
      "source": [
        "### Question: Consider two random array A and B, check if they are equal\n",
        "\n",
        "### Answer:"
      ]
    },
    {
      "cell_type": "code",
      "execution_count": 43,
      "id": "6fa1a2dc",
      "metadata": {
        "colab": {
          "base_uri": "https://localhost:8080/"
        },
        "id": "6fa1a2dc",
        "outputId": "a91f80de-ceee-4638-d463-4c19fdf7db7f"
      },
      "outputs": [
        {
          "output_type": "stream",
          "name": "stdout",
          "text": [
            "Array A:\n",
            " [[4 5 1]\n",
            " [3 9 6]\n",
            " [6 2 8]]\n",
            "Array B:\n",
            " [[7 9 6]\n",
            " [0 2 8]\n",
            " [2 2 1]]\n",
            "Array C:\n",
            " [[4 5 1]\n",
            " [3 9 6]\n",
            " [6 2 8]]\n",
            "A and B are equal: False\n",
            "A and C are equal: True\n"
          ]
        }
      ],
      "source": [
        "\n",
        "A = np.random.randint(0, 10, size=(3, 3))\n",
        "B = np.random.randint(0, 10, size=(3, 3))\n",
        "C = A.copy()\n",
        "\n",
        "print(\"Array A:\\n\", A)\n",
        "print(\"Array B:\\n\", B)\n",
        "print(\"Array C:\\n\", C)\n",
        "\n",
        "print(\"A and B are equal:\", np.array_equal(A, B))\n",
        "print(\"A and C are equal:\", np.array_equal(A, C))"
      ]
    },
    {
      "cell_type": "markdown",
      "id": "630fb73c",
      "metadata": {
        "id": "630fb73c"
      },
      "source": [
        "### Question: How to find the closest value (to a given scalar) in a vector?\n",
        "\n",
        "### Answer:"
      ]
    },
    {
      "cell_type": "code",
      "execution_count": 44,
      "id": "06ee6cee",
      "metadata": {
        "colab": {
          "base_uri": "https://localhost:8080/"
        },
        "id": "06ee6cee",
        "outputId": "76721a6e-a613-4151-8842-bd0b06ccc969"
      },
      "outputs": [
        {
          "output_type": "stream",
          "name": "stdout",
          "text": [
            "Vector: [2.48375445 4.62715053 3.91548428 5.06800474 1.37343259 1.85235175\n",
            " 3.64926268 3.22863008 7.83452216 1.77363455]\n",
            "Scalar: 4.2\n",
            "Closest value in the vector: 3.915484283714077\n"
          ]
        }
      ],
      "source": [
        "\n",
        "Z = np.random.uniform(0, 10, 10)\n",
        "scalar = 4.2\n",
        "\n",
        "print(\"Vector:\", Z)\n",
        "print(\"Scalar:\", scalar)\n",
        "\n",
        "index = (np.abs(Z - scalar)).argmin()\n",
        "closest_value = Z[index]\n",
        "\n",
        "print(\"Closest value in the vector:\", closest_value)"
      ]
    },
    {
      "cell_type": "markdown",
      "id": "04c94d20",
      "metadata": {
        "id": "04c94d20"
      },
      "source": [
        "### Question: Find the nearest value from a given value in an array\n",
        "\n",
        "### Answer:"
      ]
    },
    {
      "cell_type": "code",
      "execution_count": 45,
      "id": "5e9a82bb",
      "metadata": {
        "colab": {
          "base_uri": "https://localhost:8080/"
        },
        "id": "5e9a82bb",
        "outputId": "3223c207-dcad-43ef-8897-7f5183666e2d"
      },
      "outputs": [
        {
          "output_type": "stream",
          "name": "stdout",
          "text": [
            "Array: [7.79682737 9.01679556 0.72703054 0.53383914 2.53108631 7.67137066\n",
            " 1.41512275 1.45026365 5.34587425 2.20424015]\n",
            "Given value: 7.5\n",
            "Nearest value in the array: 7.671370660188264\n"
          ]
        }
      ],
      "source": [
        "\n",
        "Z = np.random.uniform(0, 10, 10)\n",
        "given_value = 7.5\n",
        "\n",
        "print(\"Array:\", Z)\n",
        "print(\"Given value:\", given_value)\n",
        "\n",
        "index = np.abs(Z - given_value).argmin()\n",
        "nearest_value = Z[index]\n",
        "\n",
        "print(\"Nearest value in the array:\", nearest_value)"
      ]
    },
    {
      "cell_type": "markdown",
      "id": "17701f8f",
      "metadata": {
        "id": "17701f8f"
      },
      "source": [
        "### Question: Write a NumPy program to get the values and indices of the elements that are bigger than 10 in a given array.\n",
        "\n",
        "### Answer:"
      ]
    },
    {
      "cell_type": "code",
      "execution_count": 46,
      "id": "f174daa6",
      "metadata": {
        "colab": {
          "base_uri": "https://localhost:8080/"
        },
        "id": "f174daa6",
        "outputId": "56f5a47e-0a38-4014-a26c-035b760ad583"
      },
      "outputs": [
        {
          "output_type": "stream",
          "name": "stdout",
          "text": [
            "Original array: [ 1 12  5 20  8 15  3]\n",
            "Values greater than 10: [12 20 15]\n",
            "Indices of elements greater than 10: [1 3 5]\n"
          ]
        }
      ],
      "source": [
        "\n",
        "Z = np.array([1, 12, 5, 20, 8, 15, 3])\n",
        "print(\"Original array:\", Z)\n",
        "\n",
        "mask = Z > 10\n",
        "\n",
        "values_greater_than_10 = Z[mask]\n",
        "\n",
        "indices_greater_than_10 = np.where(mask)[0]\n",
        "\n",
        "print(\"Values greater than 10:\", values_greater_than_10)\n",
        "print(\"Indices of elements greater than 10:\", indices_greater_than_10)"
      ]
    },
    {
      "cell_type": "markdown",
      "id": "2864c384",
      "metadata": {
        "id": "2864c384"
      },
      "source": [
        "### Question: Write a NumPy program to save a NumPy array to a text file.\n",
        "\n",
        "### Answer:"
      ]
    },
    {
      "cell_type": "code",
      "execution_count": 50,
      "id": "b5a4f4cd",
      "metadata": {
        "colab": {
          "base_uri": "https://localhost:8080/"
        },
        "id": "b5a4f4cd",
        "outputId": "a7787b49-20ff-40c1-9f01-2c7fa1d44738"
      },
      "outputs": [
        {
          "output_type": "stream",
          "name": "stdout",
          "text": [
            "Array to save:\n",
            " [[1 2 3]\n",
            " [4 5 6]\n",
            " [7 8 9]]\n",
            "Array saved to my_numpy_array.txt\n"
          ]
        }
      ],
      "source": [
        "\n",
        "array_to_save = np.array([[1, 2, 3], [4, 5, 6], [7, 8, 9]])\n",
        "file_name = \"my_numpy_array.txt\"\n",
        "\n",
        "print(\"Array to save:\\n\", array_to_save)\n",
        "\n",
        "np.savetxt(file_name, array_to_save)\n",
        "\n",
        "print(f\"Array saved to {file_name}\")\n",
        "\n"
      ]
    },
    {
      "cell_type": "markdown",
      "id": "59b70987",
      "metadata": {
        "id": "59b70987"
      },
      "source": [
        "### Question: How to read the following file?\n",
        "\n",
        "### Answer:"
      ]
    },
    {
      "cell_type": "code",
      "execution_count": 51,
      "id": "41b1767f",
      "metadata": {
        "colab": {
          "base_uri": "https://localhost:8080/"
        },
        "id": "41b1767f",
        "outputId": "f63e3932-0cff-44cf-8bc3-7c8b796b75e3"
      },
      "outputs": [
        {
          "output_type": "stream",
          "name": "stdout",
          "text": [
            "Loaded array from file:\n",
            " [[1. 2. 3.]\n",
            " [4. 5. 6.]\n",
            " [7. 8. 9.]]\n"
          ]
        }
      ],
      "source": [
        "loaded_array = np.loadtxt(file_name)\n",
        "print(\"Loaded array from file:\\n\", loaded_array)"
      ]
    },
    {
      "cell_type": "markdown",
      "id": "25a88a42",
      "metadata": {
        "id": "25a88a42"
      },
      "source": [
        "### Question: What is the equivalent of enumerate for numpy arrays?\n",
        "\n",
        "### Answer:"
      ]
    },
    {
      "cell_type": "code",
      "execution_count": 52,
      "id": "ca91b12e",
      "metadata": {
        "colab": {
          "base_uri": "https://localhost:8080/"
        },
        "id": "ca91b12e",
        "outputId": "b0fb33b1-f972-40e9-8f1b-d589b33c677c"
      },
      "outputs": [
        {
          "output_type": "stream",
          "name": "stdout",
          "text": [
            "Index: (0, 0), Value: 10\n",
            "Index: (0, 1), Value: 20\n",
            "Index: (0, 2), Value: 30\n",
            "Index: (1, 0), Value: 40\n",
            "Index: (1, 1), Value: 50\n",
            "Index: (1, 2), Value: 60\n"
          ]
        }
      ],
      "source": [
        "\n",
        "my_array = np.array([[10, 20, 30],\n",
        "                     [40, 50, 60]])\n",
        "\n",
        "for index, value in np.ndenumerate(my_array):\n",
        "    print(f\"Index: {index}, Value: {value}\")"
      ]
    },
    {
      "cell_type": "markdown",
      "id": "1baba423",
      "metadata": {
        "id": "1baba423"
      },
      "source": [
        "### Question: Subtract the mean of each row of a matrix\n",
        "\n",
        "### Answer:"
      ]
    },
    {
      "cell_type": "code",
      "execution_count": 53,
      "id": "9c893e10",
      "metadata": {
        "colab": {
          "base_uri": "https://localhost:8080/"
        },
        "id": "9c893e10",
        "outputId": "03f3a631-50b7-47a0-e1e2-68313ae30366"
      },
      "outputs": [
        {
          "output_type": "stream",
          "name": "stdout",
          "text": [
            "Original Matrix:\n",
            " [[1 2 3]\n",
            " [4 5 6]\n",
            " [7 8 9]]\n",
            "\n",
            "Mean of each row: [2. 5. 8.]\n",
            "\n",
            "Matrix after subtracting mean of each row:\n",
            " [[-1.  0.  1.]\n",
            " [-1.  0.  1.]\n",
            " [-1.  0.  1.]]\n"
          ]
        }
      ],
      "source": [
        "\n",
        "\n",
        "matrix = np.array([[1, 2, 3],\n",
        "                   [4, 5, 6],\n",
        "                   [7, 8, 9]])\n",
        "\n",
        "print(\"Original Matrix:\\n\", matrix)\n",
        "\n",
        "\n",
        "row_means = np.mean(matrix, axis=1)\n",
        "print(\"\\nMean of each row:\", row_means)\n",
        "\n",
        "subtracted_matrix = matrix - row_means.reshape(-1, 1)\n",
        "\n",
        "print(\"\\nMatrix after subtracting mean of each row:\\n\", subtracted_matrix)"
      ]
    },
    {
      "cell_type": "markdown",
      "id": "37baa40a",
      "metadata": {
        "id": "37baa40a"
      },
      "source": [
        "### Question: How to sort an array by the nth column?\n",
        "\n",
        "### Answer:"
      ]
    },
    {
      "cell_type": "code",
      "execution_count": 54,
      "id": "aa50976f",
      "metadata": {
        "scrolled": true,
        "colab": {
          "base_uri": "https://localhost:8080/"
        },
        "id": "aa50976f",
        "outputId": "f477c810-280d-447e-f5ae-ffba36e6fe6b"
      },
      "outputs": [
        {
          "output_type": "stream",
          "name": "stdout",
          "text": [
            "Original Array:\n",
            " [[30 10 25]\n",
            " [10 50  5]\n",
            " [20 30 15]\n",
            " [40 20 35]]\n",
            "\n",
            "Array sorted by column 1:\n",
            " [[30 10 25]\n",
            " [40 20 35]\n",
            " [20 30 15]\n",
            " [10 50  5]]\n"
          ]
        }
      ],
      "source": [
        "import numpy as np\n",
        "\n",
        "my_array = np.array([[30, 10, 25],\n",
        "                     [10, 50, 5],\n",
        "                     [20, 30, 15],\n",
        "                     [40, 20, 35]])\n",
        "\n",
        "print(\"Original Array:\\n\", my_array)\n",
        "\n",
        "n_column_index = 1\n",
        "\n",
        "sorted_indices = my_array[:, n_column_index].argsort()\n",
        "\n",
        "sorted_array = my_array[sorted_indices]\n",
        "\n",
        "print(f\"\\nArray sorted by column {n_column_index}:\\n\", sorted_array)"
      ]
    },
    {
      "cell_type": "markdown",
      "id": "d4947a4a",
      "metadata": {
        "id": "d4947a4a"
      },
      "source": [
        "### Question: Write a NumPy program to sort pairs of first name and last name return their indices. (first by last name, then by first name).\n",
        "first_names = (‘Betsey’, ‘Shelley’, ‘Lanell’, ‘Genesis’, ‘Margery’)\n",
        "\n",
        "last_names = (‘Battle’, ‘Brien’, ‘Plotner’, ‘Stahl’, ‘Woolum’)\n",
        "\n",
        "### Answer:"
      ]
    },
    {
      "cell_type": "code",
      "execution_count": 55,
      "id": "5612f745",
      "metadata": {
        "colab": {
          "base_uri": "https://localhost:8080/"
        },
        "id": "5612f745",
        "outputId": "6e8eb359-005c-4652-c9d5-6291e653f4a9"
      },
      "outputs": [
        {
          "output_type": "stream",
          "name": "stdout",
          "text": [
            "Original first names: ('Betsey', 'Shelley', 'Lanell', 'Genesis', 'Margery')\n",
            "Original last names: ('Battle', 'Brien', 'Plotner', 'Stahl', 'Woolum')\n",
            "Indices after sorting (first by last name, then by first name): [0 1 2 3 4]\n"
          ]
        }
      ],
      "source": [
        "import numpy as np\n",
        "\n",
        "first_names = ('Betsey', 'Shelley', 'Lanell', 'Genesis', 'Margery')\n",
        "last_names = ('Battle', 'Brien', 'Plotner', 'Stahl', 'Woolum')\n",
        "\n",
        "sorted_indices = np.lexsort((first_names, last_names))\n",
        "\n",
        "print(\"Original first names:\", first_names)\n",
        "print(\"Original last names:\", last_names)\n",
        "print(\"Indices after sorting (first by last name, then by first name):\", sorted_indices)"
      ]
    },
    {
      "cell_type": "markdown",
      "id": "68ad24f0",
      "metadata": {
        "id": "68ad24f0"
      },
      "source": [
        "### Question: How to tell if a given 2D array has null columns?\n",
        "\n",
        "### Answer:"
      ]
    },
    {
      "cell_type": "code",
      "execution_count": 57,
      "id": "36bc3db9",
      "metadata": {
        "colab": {
          "base_uri": "https://localhost:8080/"
        },
        "id": "36bc3db9",
        "outputId": "efa93968-5899-4464-9673-beee27917431"
      },
      "outputs": [
        {
          "output_type": "stream",
          "name": "stdout",
          "text": [
            "Original Array (with zero column):\n",
            " [[1 0 3]\n",
            " [4 0 6]\n",
            " [7 0 9]]\n",
            "Are there any all-zero columns? True\n",
            "Which columns are all-zero (mask): [False  True False]\n",
            "\n",
            "Original Array (with NaN column):\n",
            " [[ 1. nan  3.]\n",
            " [ 4. nan  6.]\n",
            " [ 7. nan  9.]]\n",
            "Are there any all-NaN columns? True\n",
            "Which columns are all-NaN (mask): [False  True False]\n"
          ]
        }
      ],
      "source": [
        "import numpy as np\n",
        "\n",
        "array_with_zero_column = np.array([[1, 0, 3],\n",
        "                                   [4, 0, 6],\n",
        "                                   [7, 0, 9]])\n",
        "\n",
        "array_with_nan_column = np.array([[1, np.nan, 3],\n",
        "                                  [4, np.nan, 6],\n",
        "                                  [7, np.nan, 9]])\n",
        "\n",
        "print(\"Original Array (with zero column):\\n\", array_with_zero_column)\n",
        "print(\"Are there any all-zero columns?\", np.any(np.all(array_with_zero_column == 0, axis=0)))\n",
        "print(\"Which columns are all-zero (mask):\", np.all(array_with_zero_column == 0, axis=0))\n",
        "\n",
        "print(\"\\nOriginal Array (with NaN column):\\n\", array_with_nan_column)\n",
        "print(\"Are there any all-NaN columns?\", np.any(np.all(np.isnan(array_with_nan_column), axis=0)))\n",
        "print(\"Which columns are all-NaN (mask):\", np.all(np.isnan(array_with_nan_column), axis=0))"
      ]
    },
    {
      "cell_type": "markdown",
      "id": "f345029e",
      "metadata": {
        "id": "f345029e"
      },
      "source": [
        "### Question: Considering a four dimensions array, how to get sum over the last two axis at once?\n",
        "happens in avgpooling [batch,channel,hight,width]\n",
        "\n",
        "### Answer:"
      ]
    },
    {
      "cell_type": "code",
      "execution_count": 58,
      "id": "06330793",
      "metadata": {
        "colab": {
          "base_uri": "https://localhost:8080/"
        },
        "id": "06330793",
        "outputId": "df41c26a-64ba-4853-918a-42303200a580"
      },
      "outputs": [
        {
          "output_type": "stream",
          "name": "stdout",
          "text": [
            "Original Array Shape: (2, 3, 4, 5)\n",
            "New Array Shape: (2, 3)\n",
            "Summed Array:\n",
            " [[ 190  590  990]\n",
            " [1390 1790 2190]]\n"
          ]
        }
      ],
      "source": [
        "import numpy as np\n",
        "\n",
        "my_4d_array = np.arange(2 * 3 * 4 * 5).reshape(2, 3, 4, 5)\n",
        "\n",
        "print(\"Original Array Shape:\", my_4d_array.shape)\n",
        "\n",
        "summed_array = np.sum(my_4d_array, axis=(2, 3))\n",
        "\n",
        "print(\"New Array Shape:\", summed_array.shape)\n",
        "print(\"Summed Array:\\n\", summed_array)"
      ]
    },
    {
      "cell_type": "markdown",
      "id": "1f9bff95",
      "metadata": {
        "id": "1f9bff95"
      },
      "source": [
        "### Related: Consider a 16x16 array, how to get the block-sum (block size is 4x4)?\n",
        "happens in avgpooling [batch,channel,hight,width]\n",
        "\n",
        "### Answer:"
      ]
    },
    {
      "cell_type": "code",
      "execution_count": 59,
      "id": "17401bf4",
      "metadata": {
        "colab": {
          "base_uri": "https://localhost:8080/"
        },
        "id": "17401bf4",
        "outputId": "48cfe019-5889-4555-d9c7-5be58c36cf44"
      },
      "outputs": [
        {
          "output_type": "stream",
          "name": "stdout",
          "text": [
            "Original Matrix Shape: (16, 16)\n",
            "Block-sum Matrix Shape: (4, 4)\n",
            "Block-sum Matrix:\n",
            " [[ 408  472  536  600]\n",
            " [1432 1496 1560 1624]\n",
            " [2456 2520 2584 2648]\n",
            " [3480 3544 3608 3672]]\n"
          ]
        }
      ],
      "source": [
        "import numpy as np\n",
        "\n",
        "matrix = np.arange(16 * 16).reshape(16, 16)\n",
        "\n",
        "print(\"Original Matrix Shape:\", matrix.shape)\n",
        "\n",
        "block_size = 4\n",
        "\n",
        "reshaped_for_blocks = matrix.reshape(\n",
        "    matrix.shape[0] // block_size, block_size,\n",
        "    matrix.shape[1] // block_size, block_size\n",
        ")\n",
        "\n",
        "block_sum_matrix = reshaped_for_blocks.sum(axis=(1, 3))\n",
        "\n",
        "print(\"Block-sum Matrix Shape:\", block_sum_matrix.shape)\n",
        "print(\"Block-sum Matrix:\\n\", block_sum_matrix)"
      ]
    },
    {
      "cell_type": "markdown",
      "id": "2a725652",
      "metadata": {
        "id": "2a725652"
      },
      "source": [
        "### Question: How to swap two rows of an array?\n",
        "\n",
        "### Answer:"
      ]
    },
    {
      "cell_type": "code",
      "execution_count": 60,
      "id": "b93bb8d8",
      "metadata": {
        "colab": {
          "base_uri": "https://localhost:8080/"
        },
        "id": "b93bb8d8",
        "outputId": "cbe523a2-87b9-4ec9-ca51-904ccd46829b"
      },
      "outputs": [
        {
          "output_type": "stream",
          "name": "stdout",
          "text": [
            "Original Array:\n",
            " [[0 1 2]\n",
            " [3 4 5]\n",
            " [6 7 8]]\n",
            "\n",
            "Array after swapping rows:\n",
            " [[6 7 8]\n",
            " [3 4 5]\n",
            " [0 1 2]]\n"
          ]
        }
      ],
      "source": [
        "\n",
        "my_array = np.arange(9).reshape(3, 3)\n",
        "\n",
        "print(\"Original Array:\\n\", my_array)\n",
        "\n",
        "row1_to_swap = 0\n",
        "row2_to_swap = 2\n",
        "\n",
        "my_array[[row1_to_swap, row2_to_swap]] = my_array[[row2_to_swap, row1_to_swap]]\n",
        "\n",
        "print(\"\\nArray after swapping rows:\\n\", my_array)"
      ]
    },
    {
      "cell_type": "markdown",
      "id": "f5b5c96c",
      "metadata": {
        "id": "f5b5c96c"
      },
      "source": [
        "### Question: How to get the n largest values of an array\n",
        "happens in one-to-many classifier (top n predictions)\n",
        "\n",
        "### Answer:"
      ]
    },
    {
      "cell_type": "code",
      "execution_count": 61,
      "id": "03f37e8f",
      "metadata": {
        "colab": {
          "base_uri": "https://localhost:8080/"
        },
        "id": "03f37e8f",
        "outputId": "8fcb122b-63e3-46d5-9876-5a3ea5aa4f5b"
      },
      "outputs": [
        {
          "output_type": "stream",
          "name": "stdout",
          "text": [
            "Original Array: [10  2  8 15  5 20  1 12  7]\n",
            "The 3 largest values are: [12 15 20]\n"
          ]
        }
      ],
      "source": [
        "import numpy as np\n",
        "\n",
        "my_array = np.array([10, 2, 8, 15, 5, 20, 1, 12, 7])\n",
        "n_largest = 3\n",
        "\n",
        "print(\"Original Array:\", my_array)\n",
        "\n",
        "\n",
        "largest_values = my_array[np.argsort(my_array)[-n_largest:]]\n",
        "\n",
        "print(f\"The {n_largest} largest values are:\", largest_values)"
      ]
    },
    {
      "cell_type": "markdown",
      "id": "8291ffa8",
      "metadata": {
        "id": "8291ffa8"
      },
      "source": [
        "### Question: Consider an array Z = [1,2,3,4,5,6,7,8,9,10,11,12,13,14], how to generate an array R = [[1,2,3,4], [2,3,4,5], [3,4,5,6], ..., [11,12,13,14]]?\n",
        "simulating sequential model training feed\n",
        "\n",
        "### Answer:"
      ]
    },
    {
      "cell_type": "code",
      "execution_count": 62,
      "id": "7256db48",
      "metadata": {
        "colab": {
          "base_uri": "https://localhost:8080/"
        },
        "id": "7256db48",
        "outputId": "047d0b57-879f-4a39-ade3-ec7faea19924"
      },
      "outputs": [
        {
          "output_type": "stream",
          "name": "stdout",
          "text": [
            "Original Array Z: [ 1  2  3  4  5  6  7  8  9 10 11 12 13 14]\n",
            "Generated Array R:\n",
            " [[ 1  2  3  4]\n",
            " [ 2  3  4  5]\n",
            " [ 3  4  5  6]\n",
            " [ 4  5  6  7]\n",
            " [ 5  6  7  8]\n",
            " [ 6  7  8  9]\n",
            " [ 7  8  9 10]\n",
            " [ 8  9 10 11]\n",
            " [ 9 10 11 12]\n",
            " [10 11 12 13]\n",
            " [11 12 13 14]]\n",
            "Shape of R: (11, 4)\n"
          ]
        }
      ],
      "source": [
        "import numpy as np\n",
        "\n",
        "Z = np.array([1, 2, 3, 4, 5, 6, 7, 8, 9, 10, 11, 12, 13, 14])\n",
        "window_size = 4\n",
        "\n",
        "num_windows = len(Z) - window_size + 1\n",
        "\n",
        "R = np.array([Z[i:i+window_size] for i in range(num_windows)])\n",
        "\n",
        "print(\"Original Array Z:\", Z)\n",
        "print(\"Generated Array R:\\n\", R)\n",
        "print(\"Shape of R:\", R.shape)"
      ]
    },
    {
      "cell_type": "code",
      "execution_count": null,
      "id": "5ed4851b",
      "metadata": {
        "id": "5ed4851b"
      },
      "outputs": [],
      "source": []
    }
  ],
  "metadata": {
    "kernelspec": {
      "display_name": "Python 3",
      "language": "python",
      "name": "python3"
    },
    "language_info": {
      "codemirror_mode": {
        "name": "ipython",
        "version": 3
      },
      "file_extension": ".py",
      "mimetype": "text/x-python",
      "name": "python",
      "nbconvert_exporter": "python",
      "pygments_lexer": "ipython3",
      "version": "3.11.0"
    },
    "colab": {
      "provenance": [],
      "include_colab_link": true
    }
  },
  "nbformat": 4,
  "nbformat_minor": 5
}