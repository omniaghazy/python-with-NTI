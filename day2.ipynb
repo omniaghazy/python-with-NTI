{
  "nbformat": 4,
  "nbformat_minor": 0,
  "metadata": {
    "colab": {
      "provenance": [],
      "authorship_tag": "ABX9TyOFuxx/oCbw2ALiWiz0UBmz",
      "include_colab_link": true
    },
    "kernelspec": {
      "name": "python3",
      "display_name": "Python 3"
    },
    "language_info": {
      "name": "python"
    }
  },
  "cells": [
    {
      "cell_type": "markdown",
      "metadata": {
        "id": "view-in-github",
        "colab_type": "text"
      },
      "source": [
        "<a href=\"https://colab.research.google.com/github/omniaghazy/python-with-NTI/blob/main/day2.ipynb\" target=\"_parent\"><img src=\"https://colab.research.google.com/assets/colab-badge.svg\" alt=\"Open In Colab\"/></a>"
      ]
    },
    {
      "cell_type": "code",
      "execution_count": null,
      "metadata": {
        "id": "Vd8ua6wDBXmP"
      },
      "outputs": [],
      "source": []
    },
    {
      "cell_type": "markdown",
      "source": [
        "1 d arrray to one col or one row\n"
      ],
      "metadata": {
        "id": "uasY_qNSC4Y-"
      }
    },
    {
      "cell_type": "code",
      "source": [
        "import numpy as np\n",
        "\n",
        "array = np.array([1,2,3,4,5])\n",
        "print(array.shape[0])     # عشان هي 1d\n",
        "\n",
        "    #0 =1     1=5\n",
        "\n",
        "\n",
        "def conversionFlag(data , flag =\"ONE COLUMN\"):\n",
        "  if flag ==\"ONE COLUMN\":\n",
        "    oneCol = data.reshape((data.shape[0],1))\n",
        "    return oneCol\n",
        "  if flag ==\"ONE ROW\":\n",
        "    onerow = data.reshape((1,data.shape[0]))\n",
        "    return onerow\n",
        "\n",
        "\n",
        "print(conversionFlag(array, \"ONE COLUMN\"))\n",
        "print(conversionFlag(array, \"ONE ROW\"))\n"
      ],
      "metadata": {
        "colab": {
          "base_uri": "https://localhost:8080/"
        },
        "id": "4zPIqlifC_L2",
        "outputId": "452a294b-ca9b-4da1-eef0-91a93d76130f"
      },
      "execution_count": 19,
      "outputs": [
        {
          "output_type": "stream",
          "name": "stdout",
          "text": [
            "5\n",
            "[[1]\n",
            " [2]\n",
            " [3]\n",
            " [4]\n",
            " [5]]\n",
            "[[1 2 3 4 5]]\n"
          ]
        }
      ]
    },
    {
      "cell_type": "markdown",
      "source": [
        "### Question: Create a null vector of size 10\n",
        "\n",
        "### Answer:"
      ],
      "metadata": {
        "id": "E5ufufyY3FNo"
      }
    },
    {
      "cell_type": "code",
      "source": [
        "import numpy as np\n",
        "nullVector = np.zeros(10)\n",
        "print(nullVector)\n"
      ],
      "metadata": {
        "colab": {
          "base_uri": "https://localhost:8080/"
        },
        "id": "HVjeKbb_EDfw",
        "outputId": "86af26b9-55bc-4fac-aa96-57d23750d9db"
      },
      "execution_count": 1,
      "outputs": [
        {
          "output_type": "stream",
          "name": "stdout",
          "text": [
            "[0. 0. 0. 0. 0. 0. 0. 0. 0. 0.]\n"
          ]
        }
      ]
    },
    {
      "cell_type": "markdown",
      "source": [
        "### Question: Create a vector with values ranging from 10 to 49\n",
        "\n",
        "### Answer:"
      ],
      "metadata": {
        "id": "EFLK3ivT3iRW"
      }
    },
    {
      "cell_type": "code",
      "source": [
        "\n",
        "vector = np.arange(10,50)\n",
        "print(vector)\n",
        "#"
      ],
      "metadata": {
        "colab": {
          "base_uri": "https://localhost:8080/"
        },
        "id": "vlY6l5os3WLk",
        "outputId": "6acbac05-1ba7-47e6-ba63-02a59828fc12"
      },
      "execution_count": 2,
      "outputs": [
        {
          "output_type": "stream",
          "name": "stdout",
          "text": [
            "[10 11 12 13 14 15 16 17 18 19 20 21 22 23 24 25 26 27 28 29 30 31 32 33\n",
            " 34 35 36 37 38 39 40 41 42 43 44 45 46 47 48 49]\n"
          ]
        }
      ]
    },
    {
      "cell_type": "markdown",
      "source": [
        "### Question: Reverse a vector (first element becomes last)\n",
        "\n",
        "### Answer:"
      ],
      "metadata": {
        "id": "W1pVvr9v3vWy"
      }
    },
    {
      "cell_type": "code",
      "source": [
        "reverse = vector[::-1]\n",
        "print(reverse)"
      ],
      "metadata": {
        "colab": {
          "base_uri": "https://localhost:8080/"
        },
        "id": "Jg0V9QME3rJR",
        "outputId": "d50fc6ee-6353-4d74-872b-fcdb0b3bbef4"
      },
      "execution_count": 4,
      "outputs": [
        {
          "output_type": "stream",
          "name": "stdout",
          "text": [
            "[49 48 47 46 45 44 43 42 41 40 39 38 37 36 35 34 33 32 31 30 29 28 27 26\n",
            " 25 24 23 22 21 20 19 18 17 16 15 14 13 12 11 10]\n"
          ]
        }
      ]
    },
    {
      "cell_type": "markdown",
      "source": [
        "### Question: Create a 3x3 matrix with values ranging from 0 to 8\n",
        "\n",
        "### Answer:"
      ],
      "metadata": {
        "id": "P9N7A_Og4BzU"
      }
    },
    {
      "cell_type": "code",
      "source": [
        "matrix = np.arange(0,9).reshape(3,3)\n",
        "print(matrix)"
      ],
      "metadata": {
        "colab": {
          "base_uri": "https://localhost:8080/"
        },
        "id": "fAjpY83Y34So",
        "outputId": "c1b04028-4312-4784-b648-3fc05329f85b"
      },
      "execution_count": 5,
      "outputs": [
        {
          "output_type": "stream",
          "name": "stdout",
          "text": [
            "[[0 1 2]\n",
            " [3 4 5]\n",
            " [6 7 8]]\n"
          ]
        }
      ]
    },
    {
      "cell_type": "markdown",
      "source": [
        "### Question: Find indices of non-zero elements from [1,2,0,0,4,0]\n",
        "\n",
        "### Answer:"
      ],
      "metadata": {
        "id": "d52JTVsY4YHa"
      }
    },
    {
      "cell_type": "code",
      "source": [
        "array = np.array([1,2,0,0,4,0])\n",
        "\n",
        "print(array[np.nonzero(array)])"
      ],
      "metadata": {
        "colab": {
          "base_uri": "https://localhost:8080/"
        },
        "id": "zEqWgOZT4TBf",
        "outputId": "641b51da-0f1a-496b-a575-eb06c3f02716"
      },
      "execution_count": 8,
      "outputs": [
        {
          "output_type": "stream",
          "name": "stdout",
          "text": [
            "[1 2 4]\n"
          ]
        }
      ]
    },
    {
      "cell_type": "markdown",
      "source": [
        "### Question: Create a 10x10 array with random values and find the minimum, maximum and mean values\n",
        "\n",
        "### Answer:"
      ],
      "metadata": {
        "id": "YNUPUFGQ46ST"
      }
    },
    {
      "cell_type": "code",
      "source": [
        "\n",
        "array = np.random.random(100).reshape(10,10)\n",
        "print(array)\n",
        "print(np.max(array))\n",
        "print(np.min(array))\n",
        "print(np.mean(array))"
      ],
      "metadata": {
        "colab": {
          "base_uri": "https://localhost:8080/"
        },
        "id": "rz5FK2_I4iJL",
        "outputId": "20afc161-95ab-4024-c8b9-50a996e10835"
      },
      "execution_count": 12,
      "outputs": [
        {
          "output_type": "stream",
          "name": "stdout",
          "text": [
            "[[0.90699258 0.15539715 0.83491323 0.70158882 0.15201701 0.81599397\n",
            "  0.16008261 0.14961193 0.6006496  0.95101433]\n",
            " [0.22391618 0.52906483 0.34995027 0.26158431 0.8926881  0.09646884\n",
            "  0.18248996 0.26398934 0.60100592 0.77576903]\n",
            " [0.55476132 0.15702598 0.91896111 0.34755626 0.40200785 0.50622065\n",
            "  0.09934141 0.91669219 0.60847264 0.69183116]\n",
            " [0.24943984 0.42418617 0.10675472 0.23561857 0.9010689  0.04204231\n",
            "  0.37317897 0.73157665 0.0276408  0.90254054]\n",
            " [0.44364724 0.0903877  0.26700627 0.79979251 0.45217943 0.04642655\n",
            "  0.18515315 0.06155381 0.81453475 0.97232184]\n",
            " [0.66920905 0.1928088  0.58971905 0.56641243 0.79208975 0.87804232\n",
            "  0.20275669 0.79551064 0.02638321 0.43018905]\n",
            " [0.03062609 0.92224047 0.94788607 0.65713979 0.83952095 0.61837142\n",
            "  0.45731334 0.19306664 0.1226799  0.45790455]\n",
            " [0.32545052 0.73521926 0.63774524 0.60782777 0.74804214 0.18885674\n",
            "  0.77619848 0.99237705 0.23733564 0.97259187]\n",
            " [0.8073879  0.42425728 0.3110037  0.13863643 0.33739766 0.7424165\n",
            "  0.21552936 0.42025934 0.62521264 0.72536045]\n",
            " [0.22460968 0.27978267 0.18335218 0.90301905 0.38846111 0.55562292\n",
            "  0.55599939 0.97096336 0.11166549 0.30422461]]\n",
            "0.9923770496827191\n",
            "0.026383209115796724\n",
            "0.48771785913433097\n"
          ]
        }
      ]
    },
    {
      "cell_type": "markdown",
      "source": [
        "### Question: What is the result of the following expressions?\n",
        "print(0 * np.nan)\n",
        "\n",
        "print(np.nan == np.nan)\n",
        "\n",
        "print(np.inf > np.nan)\n",
        "\n",
        "print(np.nan - np.nan)\n",
        "\n",
        "print(np.nan in set([np.nan]))\n",
        "\n",
        "print(0.3 == 3 * 0.1)\n",
        "\n",
        "### Answer"
      ],
      "metadata": {
        "id": "-AJR_yDk50n1"
      }
    },
    {
      "cell_type": "code",
      "source": [
        "print(0 * np.nan)\n",
        "\n",
        "print(np.nan == np.nan)\n",
        "\n",
        "print(np.inf > np.nan)\n",
        "\n",
        "print(np.nan - np.nan)\n",
        "\n",
        "print(np.nan in set([np.nan]))\n",
        "\n",
        "print(0.3 == (3 * 0.1))"
      ],
      "metadata": {
        "colab": {
          "base_uri": "https://localhost:8080/"
        },
        "id": "APlmhgD65ZXR",
        "outputId": "0469cfa7-92da-48ea-b217-08dfa62d4e6c"
      },
      "execution_count": 14,
      "outputs": [
        {
          "output_type": "stream",
          "name": "stdout",
          "text": [
            "nan\n",
            "False\n",
            "False\n",
            "nan\n",
            "True\n",
            "False\n"
          ]
        }
      ]
    },
    {
      "cell_type": "markdown",
      "source": [
        "### Question: Write a NumPy program to convert a list and tuple into arrays.\n",
        "List to array:  [1 2 3 4 5 6 7 8]\n",
        "    \n",
        "Tuples to array:  ((8, 4), (6,1), (2, 3))\n",
        "    \n",
        "## Answer:"
      ],
      "metadata": {
        "id": "3yflZN3S6JuA"
      }
    },
    {
      "cell_type": "code",
      "source": [
        "def convert2array(notarray):\n",
        "    return np.array(notarray)\n",
        "\n",
        "\n",
        "\n",
        "list = [1,2,3,4,5,6,7,8]\n",
        "tuple = ((8,4),(6,1),(2,3))\n",
        "\n",
        "print(convert2array(list))\n",
        "print(convert2array(tuple))\n"
      ],
      "metadata": {
        "colab": {
          "base_uri": "https://localhost:8080/"
        },
        "id": "8g_oFwbX58Fr",
        "outputId": "0bd5a575-aae9-4a1b-ab1d-3c79fe70e8fb"
      },
      "execution_count": 16,
      "outputs": [
        {
          "output_type": "stream",
          "name": "stdout",
          "text": [
            "[1 2 3 4 5 6 7 8]\n",
            "[[8 4]\n",
            " [6 1]\n",
            " [2 3]]\n"
          ]
        }
      ]
    },
    {
      "cell_type": "markdown",
      "source": [
        "### Question: Write a NumPy program to append values to the end of an array.\n",
        "Original array:  [10, 20, 30]\n",
        "After append values to the end of the array:  [10 20 30 40 50 60 70 80 90]\n",
        "\n",
        "### Answer:"
      ],
      "metadata": {
        "id": "NS_503ev6190"
      }
    },
    {
      "cell_type": "code",
      "source": [
        "\n",
        "\n",
        "array = np.array([10,20,30])\n",
        "list = [40,50,60,70,80,90]\n",
        "print(np.append(array,list))\n",
        "\n"
      ],
      "metadata": {
        "colab": {
          "base_uri": "https://localhost:8080/"
        },
        "id": "CeJ5h-ay6rYr",
        "outputId": "aa6915be-0560-4776-9476-7438004eb338"
      },
      "execution_count": 26,
      "outputs": [
        {
          "output_type": "stream",
          "name": "stdout",
          "text": [
            "[10 20 30 40 50 60 70 80 90]\n"
          ]
        }
      ]
    },
    {
      "cell_type": "markdown",
      "source": [
        "### Question: How to add a border (filled with 0's) around an existing array?\n",
        "\n",
        "### Answer:"
      ],
      "metadata": {
        "id": "ENhglqCi8DiL"
      }
    },
    {
      "cell_type": "code",
      "source": [
        "array = np.ones((3,3))\n",
        "print(np.pad(array,1))\n",
        "\n"
      ],
      "metadata": {
        "colab": {
          "base_uri": "https://localhost:8080/"
        },
        "id": "pdT25Ru08nB2",
        "outputId": "6f53ec2b-683f-48a6-dec6-25d0fe888a60"
      },
      "execution_count": 38,
      "outputs": [
        {
          "output_type": "stream",
          "name": "stdout",
          "text": [
            "[[0. 0. 0. 0. 0.]\n",
            " [0. 1. 1. 1. 0.]\n",
            " [0. 1. 1. 1. 0.]\n",
            " [0. 1. 1. 1. 0.]\n",
            " [0. 0. 0. 0. 0.]]\n"
          ]
        }
      ]
    },
    {
      "cell_type": "markdown",
      "source": [
        "### Question: Consider a (6,7,8) shape array, what is the index (x,y,z) of the 100th element?\n",
        "\n",
        "### Answer:\\"
      ],
      "metadata": {
        "id": "bUULU_WK-Y2j"
      }
    },
    {
      "cell_type": "code",
      "source": [
        "\n",
        "array = np.random.random((6,7,8))\n",
        "index_1d = 100 -1  # 100th element\n",
        "\n",
        "z = index_1d % 8\n",
        "\n",
        "remaining_index = index_1d // 8\n",
        "\n",
        "y = remaining_index % 7\n",
        "\n",
        "x = remaining_index // 7\n",
        "\n",
        "value =array[x,y,z]\n",
        "\n",
        "print(f\"The index of the 100th element is ({x},{y},{z}) and its value = {value}\")"
      ],
      "metadata": {
        "colab": {
          "base_uri": "https://localhost:8080/"
        },
        "id": "qZBHLyBrF0cF",
        "outputId": "30e6fb83-6c55-4945-a243-923e88652697"
      },
      "execution_count": 83,
      "outputs": [
        {
          "output_type": "stream",
          "name": "stdout",
          "text": [
            "The index of the 100th element is (1,5,3) and its value = 0.814782135449848\n"
          ]
        }
      ]
    },
    {
      "cell_type": "code",
      "source": [
        "### Question: Normalize a 5x5 random matrix\n",
        "\n",
        "### Answer:"
      ],
      "metadata": {
        "id": "e0365dn4_NEj"
      },
      "execution_count": 84,
      "outputs": []
    },
    {
      "cell_type": "code",
      "source": [
        "\n",
        "array = np.random.random((5,5))\n",
        "print(array)"
      ],
      "metadata": {
        "colab": {
          "base_uri": "https://localhost:8080/"
        },
        "id": "yldhnAWAHBp3",
        "outputId": "05dfffae-63bf-4e91-f2ac-f7af677e34ab"
      },
      "execution_count": 85,
      "outputs": [
        {
          "output_type": "stream",
          "name": "stdout",
          "text": [
            "[[0.45332072 0.10328059 0.65798182 0.74387059 0.61883005]\n",
            " [0.29834793 0.8993275  0.30718743 0.09029728 0.38316089]\n",
            " [0.12219429 0.02060107 0.36910325 0.36095071 0.31891164]\n",
            " [0.68487381 0.44379275 0.74636739 0.00928741 0.6010694 ]\n",
            " [0.03355612 0.13387833 0.05197854 0.83848973 0.79153591]]\n"
          ]
        }
      ]
    },
    {
      "cell_type": "code",
      "source": [
        "\n",
        "normalized_array = (array - np.min(array)) / (np.max(array) - np.min(array))\n",
        "print(normalized_array)"
      ],
      "metadata": {
        "colab": {
          "base_uri": "https://localhost:8080/"
        },
        "id": "ymnEQhncHGXp",
        "outputId": "068e1405-0c5e-4791-9d09-12a8bb8aae38"
      },
      "execution_count": 86,
      "outputs": [
        {
          "output_type": "stream",
          "name": "stdout",
          "text": [
            "[[0.49889136 0.10560555 0.7288373  0.82533718 0.68484852]\n",
            " [0.32477247 1.         0.33470405 0.09101823 0.42006364]\n",
            " [0.12685594 0.0127114  0.40426925 0.39510951 0.34787672]\n",
            " [0.75905166 0.48818625 0.82814245 0.         0.66489363]\n",
            " [0.02726698 0.13998348 0.0479654  0.93164604 0.87889131]]\n"
          ]
        }
      ]
    },
    {
      "cell_type": "code",
      "source": [],
      "metadata": {
        "id": "Ia9pYO-eHZlz"
      },
      "execution_count": null,
      "outputs": []
    },
    {
      "cell_type": "markdown",
      "source": [
        "### Question: Given a 1D array, negate all elements which are between 3 and 8, in place\n",
        "\n",
        "### Answer:"
      ],
      "metadata": {
        "id": "aeXTJiExHjiB"
      }
    },
    {
      "cell_type": "code",
      "source": [
        "array = np.arange(11)\n",
        "print(array)\n",
        "print(array[(array>3) & (array<8)] )"
      ],
      "metadata": {
        "colab": {
          "base_uri": "https://localhost:8080/"
        },
        "id": "i52tjfsVHntt",
        "outputId": "4cfa8a29-e80a-49c8-998b-d4bbaa71a624"
      },
      "execution_count": 92,
      "outputs": [
        {
          "output_type": "stream",
          "name": "stdout",
          "text": [
            "[ 0  1  2  3  4  5  6  7  8  9 10]\n",
            "[4 5 6 7]\n"
          ]
        }
      ]
    },
    {
      "cell_type": "markdown",
      "source": [
        "### Question: How to find common values between two arrays?\n",
        "\n",
        "### Answer:"
      ],
      "metadata": {
        "id": "EjsfG3tQITc2"
      }
    },
    {
      "cell_type": "code",
      "source": [
        "array1 = np.array([1,2,3,4,5])\n",
        "array2 = np.array([3,4,5,6,7])\n",
        "\n",
        "print(np.intersect1d(array1,array2))"
      ],
      "metadata": {
        "colab": {
          "base_uri": "https://localhost:8080/"
        },
        "id": "mIODkD_gHuD7",
        "outputId": "f244e48c-4eaf-49cc-9bb2-2556cb374fab"
      },
      "execution_count": 93,
      "outputs": [
        {
          "output_type": "stream",
          "name": "stdout",
          "text": [
            "[3 4 5]\n"
          ]
        }
      ]
    },
    {
      "cell_type": "markdown",
      "source": [
        "### Question: Write a NumPy program to test whether each element of a 1-D array is also present in a second array.\n",
        "Array1: [ 0 10 20 40 60]\n",
        "\n",
        "Array2: [0, 40]\n",
        "\n",
        "Expected Output:[ True False False True False]\n",
        "\n",
        "### Answer:"
      ],
      "metadata": {
        "id": "wifxvGWWIkW-"
      }
    },
    {
      "cell_type": "code",
      "source": [
        "array1 = np.array([0,10,20,40,60])\n",
        "array2 = np.array([0,40])\n",
        "listbool =[]\n",
        "for element in array1:\n",
        "    if element in array2:\n",
        "        listbool.append(True)\n",
        "    else:\n",
        "        listbool.append(False)\n",
        "print(listbool)\n",
        "\n",
        "\n"
      ],
      "metadata": {
        "colab": {
          "base_uri": "https://localhost:8080/"
        },
        "id": "BFdjc7rUH-dp",
        "outputId": "919b5e96-bb07-452f-ec20-c5e50aee2fc6"
      },
      "execution_count": 95,
      "outputs": [
        {
          "output_type": "stream",
          "name": "stdout",
          "text": [
            "[True, False, False, True, False]\n"
          ]
        }
      ]
    },
    {
      "cell_type": "markdown",
      "source": [
        "### Question: How to get all the dates corresponding to the month of July 2016?\n",
        "\n",
        "### Answer:\n"
      ],
      "metadata": {
        "id": "YTxYkEZ9JKrc"
      }
    },
    {
      "cell_type": "markdown",
      "source": [
        "### Question: Extract the integer part of a random array using 5 different methods\n",
        "\n",
        "### Answer:"
      ],
      "metadata": {
        "id": "sFPcFLs3JrIc"
      }
    },
    {
      "cell_type": "code",
      "source": [
        "array = np.random.random( (3,5))\n",
        "\n",
        "for element in array:\n",
        "    print(element.astype(int))\n",
        "\n",
        "array.astype(int)\n",
        "print(array)\n",
        "\n",
        "print(np.abs(array))\n",
        "\n",
        "print(array.round())\n",
        "\n",
        "\n",
        "\n",
        "\n"
      ],
      "metadata": {
        "colab": {
          "base_uri": "https://localhost:8080/"
        },
        "id": "cneo1xnxI4Fm",
        "outputId": "fcc761f3-219d-4148-c8bb-803326a01514"
      },
      "execution_count": 116,
      "outputs": [
        {
          "output_type": "stream",
          "name": "stdout",
          "text": [
            "[0 0 0 0 0]\n",
            "[0 0 0 0 0]\n",
            "[0 0 0 0 0]\n",
            "[[0.55690102 0.23622079 0.68221317 0.66036254 0.43959519]\n",
            " [0.00291944 0.89129781 0.29504339 0.69664242 0.81752208]\n",
            " [0.94222821 0.43429873 0.22451252 0.45346241 0.07787526]]\n",
            "[[0.55690102 0.23622079 0.68221317 0.66036254 0.43959519]\n",
            " [0.00291944 0.89129781 0.29504339 0.69664242 0.81752208]\n",
            " [0.94222821 0.43429873 0.22451252 0.45346241 0.07787526]]\n",
            "[[1. 0. 1. 1. 0.]\n",
            " [0. 1. 0. 1. 1.]\n",
            " [1. 0. 0. 0. 0.]]\n"
          ]
        }
      ]
    },
    {
      "cell_type": "markdown",
      "source": [
        "### Question: Consider two random array A and B, check if they are equal\n",
        "\n",
        "### Answer:"
      ],
      "metadata": {
        "id": "g_wvSJ84L2qh"
      }
    },
    {
      "cell_type": "code",
      "source": [
        "A = np.array([1,2,3,4,5])\n",
        "B = np.array([1,2,3,4,5])\n",
        "flag = np.array_equal(A,B)\n",
        "print(flag)\n",
        "\n",
        "\n"
      ],
      "metadata": {
        "colab": {
          "base_uri": "https://localhost:8080/"
        },
        "id": "gcUJRPNXKHPt",
        "outputId": "6a05151f-c36c-4f3c-e1f9-7e4d5730de14"
      },
      "execution_count": 119,
      "outputs": [
        {
          "output_type": "stream",
          "name": "stdout",
          "text": [
            "True\n"
          ]
        }
      ]
    },
    {
      "cell_type": "markdown",
      "source": [
        "### Question: How to find the closest value (to a given scalar) in a vector?\n",
        "\n",
        "### Answer:"
      ],
      "metadata": {
        "id": "1Fmbh1JIMRuG"
      }
    },
    {
      "cell_type": "code",
      "source": [
        "\n",
        "vector = np.array([1,2,3,4,5])\n",
        "sc"
      ],
      "metadata": {
        "id": "-ZvOs6X7MClG"
      },
      "execution_count": null,
      "outputs": []
    }
  ]
}