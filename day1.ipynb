{
  "nbformat": 4,
  "nbformat_minor": 0,
  "metadata": {
    "colab": {
      "provenance": [],
      "authorship_tag": "ABX9TyM11/BOhA34QBxHrpRS+GDT",
      "include_colab_link": true
    },
    "kernelspec": {
      "name": "python3",
      "display_name": "Python 3"
    },
    "language_info": {
      "name": "python"
    }
  },
  "cells": [
    {
      "cell_type": "markdown",
      "metadata": {
        "id": "view-in-github",
        "colab_type": "text"
      },
      "source": [
        "<a href=\"https://colab.research.google.com/github/omniaghazy/python-with-NTI/blob/main/day1.ipynb\" target=\"_parent\"><img src=\"https://colab.research.google.com/assets/colab-badge.svg\" alt=\"Open In Colab\"/></a>"
      ]
    },
    {
      "cell_type": "code",
      "execution_count": 2,
      "metadata": {
        "colab": {
          "base_uri": "https://localhost:8080/",
          "height": 36
        },
        "id": "QHW46WPIiX6h",
        "outputId": "1b63a98b-3ed0-4e6a-843b-a6ecd34d68f2"
      },
      "outputs": [
        {
          "output_type": "execute_result",
          "data": {
            "text/plain": [
              "'hello'"
            ],
            "application/vnd.google.colaboratory.intrinsic+json": {
              "type": "string"
            }
          },
          "metadata": {},
          "execution_count": 2
        }
      ],
      "source": [
        "d={\"k1\":[1,2,{\"k2\":[\"this is tricky\",{\"ahmed\":[1,2,[\"hello\"]]}]}]}\n",
        "d[\"k1\"][2][\"k2\"][1][\"ahmed\"][2][0]"
      ]
    },
    {
      "cell_type": "code",
      "source": [],
      "metadata": {
        "id": "a83c3OXd-tux"
      },
      "execution_count": 7,
      "outputs": []
    },
    {
      "cell_type": "code",
      "source": [
        "\n",
        "def calaculator (num1 , num2 , operater):\n",
        "    if operater == \"1\":\n",
        "        return num1 + num2\n",
        "    elif operater == \"2\":\n",
        "        return num1 - num2\n",
        "    elif operater == \"3\":\n",
        "        return num1 * num2\n",
        "    elif operater == \"4\":\n",
        "        return num1 / num2\n",
        "    else:\n",
        "        return \"operater is not correct\"\n",
        "\n",
        "print(\"please enter num1\")\n",
        "num1=int(input(\"enter num1 = \"))\n",
        "\n",
        "print(\"please enter num2\")\n",
        "num2=int(input(\"enter num2 = \"))\n",
        "\n",
        "print(\"please enter number of operation\")\n",
        "print(\"1.add\")\n",
        "print(\"2.sub\")\n",
        "print(\"3.mul\")\n",
        "print(\"4.div\")\n",
        "operater=input(\"enter operater : \")\n",
        "\n",
        "\n",
        "result =calaculator(num1,num2,operater)\n",
        "print(f\"result = {result}\")"
      ],
      "metadata": {
        "colab": {
          "base_uri": "https://localhost:8080/"
        },
        "id": "qi4I2tZqJwMe",
        "outputId": "947402e7-d6da-48de-da7a-c6cd1b821221"
      },
      "execution_count": 13,
      "outputs": [
        {
          "output_type": "stream",
          "name": "stdout",
          "text": [
            "please enter num1\n",
            "enter num1 = 112\n",
            "please enter num2\n",
            "enter num2 = 11\n",
            "please enter number of operation\n",
            "1.add\n",
            "2.sub\n",
            "3.mul\n",
            "4.div\n",
            "enter operater : 4\n",
            "result = 10.181818181818182\n"
          ]
        }
      ]
    },
    {
      "cell_type": "code",
      "source": [],
      "metadata": {
        "id": "7V2o08WgKbX6"
      },
      "execution_count": null,
      "outputs": []
    }
  ]
}